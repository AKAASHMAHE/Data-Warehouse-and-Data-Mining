{
 "cells": [
  {
   "cell_type": "code",
   "execution_count": 1,
   "id": "cf2ce2f2-fdf5-41af-9899-10006504aa60",
   "metadata": {},
   "outputs": [],
   "source": [
    "import pandas as pd\n",
    "from apyori import apriori"
   ]
  },
  {
   "cell_type": "code",
   "execution_count": 8,
   "id": "c5b41537-fa24-4160-abb8-8e13e3e1c93c",
   "metadata": {},
   "outputs": [
    {
     "name": "stdout",
     "output_type": "stream",
     "text": [
      "Data preview:\n",
      "   Transaction ID                    Items Purchased\n",
      "0               1     Orange Juice, Watermelon Juice\n",
      "1               2                        Apple Juice\n",
      "2               3       Mango Juice, Pineapple Juice\n",
      "3               4  Strawberry Juice, Banana Smoothie\n",
      "4               5                        Grape Juice\n"
     ]
    }
   ],
   "source": [
    "df = pd.read_excel('Fruit Juice Transactions.xlsx')  \n"
   ]
  },
  {
   "cell_type": "code",
   "execution_count": 9,
   "id": "ca4a2430-ea99-47d1-8fd1-bce4b030c8a2",
   "metadata": {},
   "outputs": [],
   "source": [
    "transactions = df['Items Purchased'].apply(lambda x: [item.strip() for item in x.split(',')]).tolist()"
   ]
  },
  {
   "cell_type": "code",
   "execution_count": 10,
   "id": "19953851-b51f-4185-923e-7d2041e78648",
   "metadata": {},
   "outputs": [
    {
     "ename": "SyntaxError",
     "evalue": "incomplete input (1129478686.py, line 2)",
     "output_type": "error",
     "traceback": [
      "\u001b[1;36m  Cell \u001b[1;32mIn[10], line 2\u001b[1;36m\u001b[0m\n\u001b[1;33m    print(f\"Sample transaction: {transactions[0]}\"\u001b[0m\n\u001b[1;37m                                                  ^\u001b[0m\n\u001b[1;31mSyntaxError\u001b[0m\u001b[1;31m:\u001b[0m incomplete input\n"
     ]
    }
   ],
   "source": [
    "print(f\"Total transactions: {len(transactions)}\")\n",
    "print(f\"Sample transaction: {transactions[0]}\")"
   ]
  },
  {
   "cell_type": "code",
   "execution_count": 7,
   "id": "fbac1c28-53a2-45ec-99fa-93af2c6d6372",
   "metadata": {},
   "outputs": [],
   "source": [
    "for rule in results:\n",
    "    items = [x for x in rule.items]\n",
    "    print(f\"Rule: {items}\")\n",
    "    print(f\"Support: {rule.support:.3f}\")\n",
    "    for ordered_stat in rule.ordered_statistics:\n",
    "        print(f\"Confidence: {ordered_stat.confidence:.3f}\")\n",
    "        print(f\"Lift: {ordered_stat.lift:.3f}\")\n",
    "    print(\"===\")"
   ]
  },
  {
   "cell_type": "code",
   "execution_count": null,
   "id": "a949172f-3872-4218-a326-14c38ab3bfa0",
   "metadata": {},
   "outputs": [],
   "source": []
  }
 ],
 "metadata": {
  "kernelspec": {
   "display_name": "Python 3 (ipykernel)",
   "language": "python",
   "name": "python3"
  },
  "language_info": {
   "codemirror_mode": {
    "name": "ipython",
    "version": 3
   },
   "file_extension": ".py",
   "mimetype": "text/x-python",
   "name": "python",
   "nbconvert_exporter": "python",
   "pygments_lexer": "ipython3",
   "version": "3.10.11"
  }
 },
 "nbformat": 4,
 "nbformat_minor": 5
}

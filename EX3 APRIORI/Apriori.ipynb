{
 "cells": [
  {
   "cell_type": "code",
   "execution_count": 24,
   "id": "cf2ce2f2-fdf5-41af-9899-10006504aa60",
   "metadata": {},
   "outputs": [],
   "source": [
    "import pandas as pd\n",
    "from apyori import apriori\n",
    "from collections import Counter\n",
    "from itertools import combinations"
   ]
  },
  {
   "cell_type": "code",
   "execution_count": 25,
   "id": "c5b41537-fa24-4160-abb8-8e13e3e1c93c",
   "metadata": {},
   "outputs": [],
   "source": [
    "df = pd.read_excel('Fruit Juice Transactions.xlsx')  \n",
    "#Akaash M K 23MIC0012"
   ]
  },
  {
   "cell_type": "code",
   "execution_count": 26,
   "id": "ca4a2430-ea99-47d1-8fd1-bce4b030c8a2",
   "metadata": {},
   "outputs": [],
   "source": [
    "transactions = df['Items Purchased'].apply(lambda x: [item.strip() for item in x.split(',')]).tolist()\n",
    "#Akaash M K 23MIC0012"
   ]
  },
  {
   "cell_type": "code",
   "execution_count": 27,
   "id": "19953851-b51f-4185-923e-7d2041e78648",
   "metadata": {},
   "outputs": [
    {
     "name": "stdout",
     "output_type": "stream",
     "text": [
      "Total transactions: 100\n"
     ]
    }
   ],
   "source": [
    "print(f\"Total transactions: {len(transactions)}\")\n",
    "#Akaash M K 23MIC0012"
   ]
  },
  {
   "cell_type": "code",
   "execution_count": 28,
   "id": "fbac1c28-53a2-45ec-99fa-93af2c6d6372",
   "metadata": {},
   "outputs": [],
   "source": [
    "results = apriori(transactions, min_support=0.05, min_confidence=0.05, min_lift=1, min_length=2)\n",
    "#Akaash M K 23MIC0012"
   ]
  },
  {
   "cell_type": "code",
   "execution_count": 29,
   "id": "a949172f-3872-4218-a326-14c38ab3bfa0",
   "metadata": {},
   "outputs": [
    {
     "name": "stdout",
     "output_type": "stream",
     "text": [
      "Rule: ['Apple Juice']\n",
      "Support: 0.200\n",
      "Confidence: 0.200\n",
      "Lift: 1.000\n",
      "===\n",
      "Rule: ['Banana Smoothie']\n",
      "Support: 0.120\n",
      "Confidence: 0.120\n",
      "Lift: 1.000\n",
      "===\n",
      "Rule: ['Carrot Juice']\n",
      "Support: 0.050\n",
      "Confidence: 0.050\n",
      "Lift: 1.000\n",
      "===\n",
      "Rule: ['Grape Juice']\n",
      "Support: 0.160\n",
      "Confidence: 0.160\n",
      "Lift: 1.000\n",
      "===\n",
      "Rule: ['Green Smoothie']\n",
      "Support: 0.050\n",
      "Confidence: 0.050\n",
      "Lift: 1.000\n",
      "===\n",
      "Rule: ['Kiwi Juice']\n",
      "Support: 0.080\n",
      "Confidence: 0.080\n",
      "Lift: 1.000\n",
      "===\n",
      "Rule: ['Mango Juice']\n",
      "Support: 0.190\n",
      "Confidence: 0.190\n",
      "Lift: 1.000\n",
      "===\n",
      "Rule: ['Orange Juice']\n",
      "Support: 0.210\n",
      "Confidence: 0.210\n",
      "Lift: 1.000\n",
      "===\n",
      "Rule: ['Pineapple Juice']\n",
      "Support: 0.160\n",
      "Confidence: 0.160\n",
      "Lift: 1.000\n",
      "===\n",
      "Rule: ['Strawberry Juice']\n",
      "Support: 0.180\n",
      "Confidence: 0.180\n",
      "Lift: 1.000\n",
      "===\n",
      "Rule: ['Watermelon Juice']\n",
      "Support: 0.200\n",
      "Confidence: 0.200\n",
      "Lift: 1.000\n",
      "===\n",
      "Rule: ['Pineapple Juice', 'Mango Juice']\n",
      "Support: 0.060\n",
      "Confidence: 0.060\n",
      "Lift: 1.000\n",
      "Confidence: 0.316\n",
      "Lift: 1.974\n",
      "Confidence: 0.375\n",
      "Lift: 1.974\n",
      "===\n",
      "Rule: ['Watermelon Juice', 'Orange Juice']\n",
      "Support: 0.060\n",
      "Confidence: 0.060\n",
      "Lift: 1.000\n",
      "Confidence: 0.286\n",
      "Lift: 1.429\n",
      "Confidence: 0.300\n",
      "Lift: 1.429\n",
      "===\n"
     ]
    }
   ],
   "source": [
    "\n",
    "rules_found = False\n",
    "for rule in results:\n",
    "    rules_found = True\n",
    "    items = [x for x in rule.items]\n",
    "    print(f\"Rule: {items}\")\n",
    "    print(f\"Support: {rule.support:.3f}\")\n",
    "    #Akaash M K 23MIC0012\n",
    "    for ordered_stat in rule.ordered_statistics:\n",
    "        print(f\"Confidence: {ordered_stat.confidence:.3f}\")\n",
    "        print(f\"Lift: {ordered_stat.lift:.3f}\")\n",
    "    print(\"===\")\n",
    "\n",
    "if not rules_found:\n",
    "    print(\"No association rules found with these parameters. Try lowering support/confidence.\")\n"
   ]
  },
  {
   "cell_type": "code",
   "execution_count": 30,
   "id": "210d9b94-d1af-4977-a323-47b448ae141f",
   "metadata": {},
   "outputs": [
    {
     "name": "stdout",
     "output_type": "stream",
     "text": [
      "Pairs bought together and their counts:\n",
      "('Orange Juice', 'Watermelon Juice'): 6\n",
      "('Mango Juice', 'Pineapple Juice'): 6\n",
      "('Banana Smoothie', 'Strawberry Juice'): 2\n",
      "('Strawberry Juice', 'Watermelon Juice'): 2\n",
      "('Apple Juice', 'Grape Juice'): 4\n",
      "('Banana Smoothie', 'Mango Juice'): 1\n",
      "('Mango Juice', 'Orange Juice'): 4\n",
      "('Apple Juice', 'Orange Juice'): 3\n",
      "('Kiwi Juice', 'Strawberry Juice'): 1\n",
      "('Grape Juice', 'Pineapple Juice'): 2\n",
      "('Apple Juice', 'Mango Juice'): 3\n",
      "('Mixed Berry Smoothie', 'Strawberry Juice'): 2\n",
      "('Orange Juice', 'Pineapple Juice'): 2\n",
      "('Apple Juice', 'Banana Smoothie'): 3\n",
      "('Carrot Juice', 'Watermelon Juice'): 3\n",
      "('Grape Juice', 'Kiwi Juice'): 2\n",
      "('Apple Juice', 'Kiwi Juice'): 1\n",
      "('Mango Juice', 'Strawberry Juice'): 2\n",
      "('Grape Juice', 'Watermelon Juice'): 1\n",
      "('Apple Juice', 'Pineapple Juice'): 1\n",
      "('Banana Smoothie', 'Watermelon Juice'): 1\n",
      "('Orange Juice', 'Strawberry Juice'): 2\n",
      "('Grape Juice', 'Mango Juice'): 1\n",
      "('Banana Smoothie', 'Kiwi Juice'): 1\n",
      "('Banana Smoothie', 'Grape Juice'): 1\n",
      "('Mango Juice', 'Watermelon Juice'): 2\n",
      "('Apple Juice', 'Strawberry Juice'): 1\n",
      "('Grape Juice', 'Orange Juice'): 2\n",
      "('Kiwi Juice', 'Pineapple Juice'): 1\n",
      "('Grape Juice', 'Strawberry Juice'): 1\n",
      "('Pineapple Juice', 'Watermelon Juice'): 1\n",
      "('Carrot Juice', 'Orange Juice'): 1\n"
     ]
    }
   ],
   "source": [
    "pair_counts = Counter()\n",
    "\n",
    "for items in transactions:\n",
    "    \n",
    "    pairs = combinations(sorted(items), 2)  \n",
    "    pair_counts.update(pairs)\n",
    "\n",
    "#Akaash M K 23MIC0012\n",
    "print(\"Pairs bought together and their counts:\")\n",
    "for pair, count in pair_counts.items():\n",
    "    print(f\"{pair}: {count}\")"
   ]
  },
  {
   "cell_type": "code",
   "execution_count": null,
   "id": "fe1e456c-f557-4014-a239-4c6fe8dbdb26",
   "metadata": {},
   "outputs": [],
   "source": []
  },
  {
   "cell_type": "code",
   "execution_count": null,
   "id": "fe20069f-40ed-4dbf-b39f-216afb94dffc",
   "metadata": {},
   "outputs": [],
   "source": []
  }
 ],
 "metadata": {
  "kernelspec": {
   "display_name": "Python 3 (ipykernel)",
   "language": "python",
   "name": "python3"
  },
  "language_info": {
   "codemirror_mode": {
    "name": "ipython",
    "version": 3
   },
   "file_extension": ".py",
   "mimetype": "text/x-python",
   "name": "python",
   "nbconvert_exporter": "python",
   "pygments_lexer": "ipython3",
   "version": "3.10.11"
  }
 },
 "nbformat": 4,
 "nbformat_minor": 5
}
